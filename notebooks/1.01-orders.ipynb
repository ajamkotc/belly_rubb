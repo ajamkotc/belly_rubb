{
 "cells": [
  {
   "cell_type": "markdown",
   "id": "0",
   "metadata": {},
   "source": [
    "# Orders Cleaning\n",
    "\n",
    "This notebook will perform basic cleaning of the `Orders` dataset in order to prepare for dashboarding and storytelling.\n",
    "\n",
    "Steps include:\n",
    "* Removing columns with no or single values.\n",
    "* Removing columns with no valuable information.\n",
    "* Standardizing item names."
   ]
  },
  {
   "cell_type": "code",
   "execution_count": null,
   "id": "1",
   "metadata": {},
   "outputs": [],
   "source": [
    "import string\n",
    "import pandas as pd\n",
    "\n",
    "from belly_rubb.config import RAW_DATA_DIR, INTERIM_DATA_DIR"
   ]
  },
  {
   "cell_type": "code",
   "execution_count": null,
   "id": "2",
   "metadata": {},
   "outputs": [],
   "source": [
    "# Load orders\n",
    "\n",
    "orders_df = pd.read_csv(INTERIM_DATA_DIR / 'orders.csv')\n",
    "orders_df.head()"
   ]
  },
  {
   "cell_type": "code",
   "execution_count": null,
   "id": "3",
   "metadata": {},
   "outputs": [],
   "source": [
    "orders_df.shape"
   ]
  },
  {
   "cell_type": "markdown",
   "id": "4",
   "metadata": {},
   "source": [
    "# Standardizing Item Names"
   ]
  },
  {
   "cell_type": "code",
   "execution_count": null,
   "id": "5",
   "metadata": {},
   "outputs": [],
   "source": [
    "# Load menu data\n",
    "\n",
    "catalog_df = pd.read_csv(RAW_DATA_DIR / 'MLW4W4RYAASNM_catalog-2025-08-26-2046.csv')\n",
    "catalog_df.head()"
   ]
  },
  {
   "cell_type": "markdown",
   "id": "6",
   "metadata": {},
   "source": [
    "## Normalize `Item Name` in orders\n",
    "\n",
    "- Lowercase\n",
    "- Trim\n",
    "- No punctuation marks\n",
    "- Remove double spaces\n",
    "- Remove parentheses\n",
    "- Normalize unicode"
   ]
  },
  {
   "cell_type": "code",
   "execution_count": null,
   "id": "7",
   "metadata": {},
   "outputs": [],
   "source": [
    "def normalize(item: str) -> str:\n",
    "    lowercase = item.lower()\n",
    "    trimmed = lowercase.strip()\n",
    "    no_punctuation = trimmed.translate(str.maketrans('', '', string.punctuation))\n",
    "    no_double_space = no_punctuation.replace('  ', ' ')\n",
    "\n",
    "    return no_double_space"
   ]
  },
  {
   "cell_type": "code",
   "execution_count": null,
   "id": "8",
   "metadata": {},
   "outputs": [],
   "source": [
    "normalized_df = orders_df.dropna(subset='Item Name')\n",
    "normalized_df['Item Name'] = normalized_df['Item Name'].apply(lambda x: normalize(x))"
   ]
  },
  {
   "cell_type": "code",
   "execution_count": null,
   "id": "9",
   "metadata": {},
   "outputs": [],
   "source": [
    "normalized_df['Item Name'].unique()"
   ]
  },
  {
   "cell_type": "markdown",
   "id": "10",
   "metadata": {},
   "source": []
  }
 ],
 "metadata": {
  "kernelspec": {
   "display_name": "belly_rubb",
   "language": "python",
   "name": "python3"
  },
  "language_info": {
   "codemirror_mode": {
    "name": "ipython",
    "version": 3
   },
   "file_extension": ".py",
   "mimetype": "text/x-python",
   "name": "python",
   "nbconvert_exporter": "python",
   "pygments_lexer": "ipython3",
   "version": "3.10.18"
  }
 },
 "nbformat": 4,
 "nbformat_minor": 5
}
