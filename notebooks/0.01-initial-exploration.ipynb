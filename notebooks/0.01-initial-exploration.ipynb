{
 "cells": [
  {
   "cell_type": "markdown",
   "id": "0",
   "metadata": {},
   "source": [
    "# Initial Exploration"
   ]
  },
  {
   "cell_type": "code",
   "execution_count": null,
   "id": "1",
   "metadata": {},
   "outputs": [],
   "source": [
    "import os\n",
    "import pandas as pd\n",
    "import numpy as np\n",
    "\n",
    "# Data visualization\n",
    "import matplotlib.pyplot as plt\n",
    "import seaborn as sns\n",
    "\n",
    "pd.set_option('display.max_columns', None)"
   ]
  },
  {
   "cell_type": "markdown",
   "id": "2",
   "metadata": {},
   "source": [
    "## Orders"
   ]
  },
  {
   "cell_type": "code",
   "execution_count": null,
   "id": "3",
   "metadata": {},
   "outputs": [],
   "source": [
    "# Create a list of DataFrames from the orders CSV files\n",
    "orders_dir = '../data/raw/orders'\n",
    "csv_files = [f for f in os.listdir(orders_dir) if f.endswith('.csv')]\n",
    "\n",
    "dataframes = []\n",
    "for file in csv_files:\n",
    "    file_path = os.path.join(orders_dir, file)\n",
    "    df = pd.read_csv(file_path)\n",
    "    dataframes.append(df)\n",
    "\n",
    "# Combine dataframes into one\n",
    "df = pd.concat(dataframes, ignore_index=True)\n",
    "df.head()"
   ]
  },
  {
   "cell_type": "code",
   "execution_count": null,
   "id": "4",
   "metadata": {},
   "outputs": [],
   "source": [
    "print(f\"Rows: {df.shape[0]}\\nColumns: {df.shape[1]}\")"
   ]
  },
  {
   "cell_type": "code",
   "execution_count": null,
   "id": "5",
   "metadata": {},
   "outputs": [],
   "source": [
    "df.columns"
   ]
  },
  {
   "cell_type": "code",
   "execution_count": null,
   "id": "6",
   "metadata": {},
   "outputs": [],
   "source": [
    "df.info()"
   ]
  },
  {
   "cell_type": "code",
   "execution_count": null,
   "id": "7",
   "metadata": {},
   "outputs": [],
   "source": [
    "# Convert date columns to datetime\n",
    "\n",
    "df['Order Date'] = pd.to_datetime(df['Order Date'])\n",
    "df['Fulfillment Date'] = pd.to_datetime(df['Fulfillment Date'], format='%m/%d/%Y, %I:%M %p')"
   ]
  },
  {
   "cell_type": "markdown",
   "id": "8",
   "metadata": {},
   "source": [
    "### Data Quality Checks\n",
    "- [x] Investigate missing values\n",
    "- [x] Identify static columns\n",
    "- [x] Check for duplicates\n",
    "- [x] Validate data types\n",
    "- [x] Spot outliers"
   ]
  },
  {
   "cell_type": "markdown",
   "id": "9",
   "metadata": {},
   "source": [
    "##### Missing values and static columns"
   ]
  },
  {
   "cell_type": "code",
   "execution_count": null,
   "id": "10",
   "metadata": {},
   "outputs": [],
   "source": [
    "# Identify empty or static columns\n",
    "\n",
    "for col in df.columns:\n",
    "    unique_values = set(df[col].dropna().unique())\n",
    "    if len(unique_values) == 0:\n",
    "        print(f\"Column '{col}' is empty.\")\n",
    "    elif len(unique_values) == 1:\n",
    "        print(f\"Column '{col}' has a single unique value: {unique_values.pop()}\")"
   ]
  },
  {
   "cell_type": "code",
   "execution_count": null,
   "id": "11",
   "metadata": {},
   "outputs": [],
   "source": [
    "# List distinct Recipient Country values\n",
    "\n",
    "df['Recipient Country'].unique()"
   ]
  },
  {
   "cell_type": "code",
   "execution_count": null,
   "id": "12",
   "metadata": {},
   "outputs": [],
   "source": [
    "zz_country = df[df['Recipient Country'] == 'ZZ']\n",
    "zz_country"
   ]
  },
  {
   "cell_type": "code",
   "execution_count": null,
   "id": "13",
   "metadata": {},
   "outputs": [],
   "source": [
    "len(zz_country)"
   ]
  },
  {
   "cell_type": "code",
   "execution_count": null,
   "id": "14",
   "metadata": {},
   "outputs": [],
   "source": [
    "# View missing value percentages\n",
    "\n",
    "df.isna().sum().div(len(df))*100"
   ]
  },
  {
   "cell_type": "markdown",
   "id": "15",
   "metadata": {},
   "source": [
    "* `Currency`, `Fulfillment Location`, and `Recipient Region` have a single unique value.\n",
    "* `Order Shipping Price`, `Order Refunded Amount`, and `Item SKU` are empty.\n",
    "* `Recipient Country` has 359 rows with the value `ZZ`.\n",
    "* Geographic details such as `Recipient Address` and `Recipient Postal Code` are missing greater than **89%** of their data."
   ]
  },
  {
   "cell_type": "markdown",
   "id": "16",
   "metadata": {},
   "source": [
    "#### Null values"
   ]
  },
  {
   "cell_type": "code",
   "execution_count": null,
   "id": "17",
   "metadata": {},
   "outputs": [],
   "source": [
    "# View rows with all null values\n",
    "\n",
    "df[df.isna().all(axis=1)]"
   ]
  },
  {
   "cell_type": "markdown",
   "id": "18",
   "metadata": {},
   "source": [
    "#### Duplicates"
   ]
  },
  {
   "cell_type": "code",
   "execution_count": null,
   "id": "19",
   "metadata": {},
   "outputs": [],
   "source": [
    "# Check for duplicates\n",
    "\n",
    "duplicates = df.duplicated()\n",
    "df[duplicates]"
   ]
  },
  {
   "cell_type": "code",
   "execution_count": null,
   "id": "20",
   "metadata": {},
   "outputs": [],
   "source": [
    "# Check duplicate 'Armen 59-07' rows\n",
    "\n",
    "df[(df['Order'] == 'Armen 59-07') & (df['Order Date'] == '2024/08/31')]"
   ]
  },
  {
   "cell_type": "code",
   "execution_count": null,
   "id": "21",
   "metadata": {},
   "outputs": [],
   "source": [
    "# Check duplicate Troy Issac rows\n",
    "\n",
    "df[(df['Order'] == 'Troy Issac') & (df['Order Date'] == '2024/12/19')]"
   ]
  },
  {
   "cell_type": "markdown",
   "id": "22",
   "metadata": {},
   "source": [
    "Each order is split into multiple rows, one for each menu item. Menu items are not grouped together however. For example, one order can have multiple rows with `CRINKLE FRIES` as the `Item name`. This implies that if items are part of separate combos or groupings, they are listed separately."
   ]
  },
  {
   "cell_type": "markdown",
   "id": "23",
   "metadata": {},
   "source": [
    "#### Outliers"
   ]
  },
  {
   "cell_type": "code",
   "execution_count": null,
   "id": "24",
   "metadata": {},
   "outputs": [],
   "source": [
    "def calculate_iqr(df: pd.DataFrame, col: str) -> tuple:\n",
    "    \"\"\"\n",
    "    Calculate the Interquartile Range (IQR) for a given column.\n",
    "    \n",
    "    Args:\n",
    "        col (str): The name of the column to calculate IQR for.\n",
    "        \n",
    "    Returns:\n",
    "        tuple: A tuple containing the lower and upper bounds for outliers.\n",
    "    \"\"\"\n",
    "    q1 = df[col].quantile(0.25)\n",
    "    q3 = df[col].quantile(0.75)\n",
    "    iqr = q3 - q1\n",
    "\n",
    "    lower_bound = q1 - 1.5 * iqr\n",
    "    upper_bound = q3 + 1.5 * iqr\n",
    "\n",
    "    return lower_bound, upper_bound\n"
   ]
  },
  {
   "cell_type": "markdown",
   "id": "25",
   "metadata": {},
   "source": [
    "##### Order Total"
   ]
  },
  {
   "cell_type": "code",
   "execution_count": null,
   "id": "26",
   "metadata": {},
   "outputs": [],
   "source": [
    "# Identify outliers in Order Total\n",
    "\n",
    "plt.title('Distribution of Order Total', fontsize=16, fontweight='bold')\n",
    "sns.histplot(data=df, x='Order Total', color='skyblue')\n",
    "plt.xlabel('Order Total ($)', fontsize=14)\n",
    "plt.ylabel('Frequency', fontsize=14)\n",
    "lower_bound, upper_bound = calculate_iqr(df=df, col='Order Total')\n",
    "\n",
    "plt.axvline(x=df['Order Total'].mean(), color='red', linestyle='--', label='Mean')\n",
    "plt.axvline(x=df['Order Total'].median(), color='green', linestyle='--', label='Median')\n",
    "plt.axvline(x=lower_bound, color='orange', linestyle='-.', label='Lower Bound') if lower_bound > 0 else None\n",
    "plt.axvline(x=upper_bound, color='orange', linestyle='-.', label='Upper Bound')\n",
    "plt.legend()\n",
    "\n",
    "plt.tight_layout()\n",
    "plt.show()"
   ]
  },
  {
   "cell_type": "code",
   "execution_count": null,
   "id": "27",
   "metadata": {},
   "outputs": [],
   "source": [
    "# Print outlier information\n",
    "\n",
    "num_order_total_outliers = len(df[df['Order Total'] > upper_bound])\n",
    "print(f\"Number of outliers in 'Order Total': {num_order_total_outliers}\")\n",
    "print(f\"Percentage of total dataset: {num_order_total_outliers / len(df) * 100:.2f}%\")"
   ]
  },
  {
   "cell_type": "code",
   "execution_count": null,
   "id": "28",
   "metadata": {},
   "outputs": [],
   "source": [
    "# View Order Total outtliers\n",
    "\n",
    "order_total_outliers = df[df['Order Total'] > upper_bound].sort_values(by='Order Total', ascending=False)\n",
    "order_total_outliers"
   ]
  },
  {
   "cell_type": "markdown",
   "id": "29",
   "metadata": {},
   "source": [
    "It appears that outliers in `Order Total` are simply large orders. At a cursory investigation there does not seem to be data entry mistakes or suspicious activity."
   ]
  },
  {
   "cell_type": "markdown",
   "id": "30",
   "metadata": {},
   "source": [
    "##### Item Price"
   ]
  },
  {
   "cell_type": "code",
   "execution_count": null,
   "id": "31",
   "metadata": {},
   "outputs": [],
   "source": [
    "# Identify outliers in Item Price\n",
    "\n",
    "plt.title('Distribution of Item Price', fontsize=16, fontweight='bold')\n",
    "sns.histplot(data=df, x='Item Price', color='skyblue')\n",
    "plt.xlabel('Item Price ($)', fontsize=14)\n",
    "plt.ylabel('Frequency', fontsize=14)\n",
    "\n",
    "lower_bound, upper_bound = calculate_iqr(df=df, col='Item Price')\n",
    "\n",
    "plt.axvline(x=df['Item Price'].mean(), color='red', linestyle='--', label='Mean')\n",
    "plt.axvline(x=df['Item Price'].median(), color='green', linestyle='--', label='Median')\n",
    "plt.axvline(x=lower_bound, color='orange', linestyle='-.', label='Lower Bound') if lower_bound > 0 else None\n",
    "plt.axvline(x=upper_bound, color='orange', linestyle='-.', label='Upper Bound')\n",
    "plt.legend()\n",
    "\n",
    "plt.tight_layout()\n",
    "plt.show()"
   ]
  },
  {
   "cell_type": "code",
   "execution_count": null,
   "id": "32",
   "metadata": {},
   "outputs": [],
   "source": [
    "# View Item Price outlier information\n",
    "\n",
    "num_item_price_outliers = len(df[df['Item Price'] > upper_bound])\n",
    "print(f\"Number of outliers in 'Item Price': {num_item_price_outliers}\")\n",
    "print(f\"Percentage of total dataset: {num_item_price_outliers / len(df) * 100:.2f}%\")"
   ]
  },
  {
   "cell_type": "code",
   "execution_count": null,
   "id": "33",
   "metadata": {},
   "outputs": [],
   "source": [
    "# List Item Price outliers\n",
    "\n",
    "item_price_outliers = df[df['Item Price'] > upper_bound].sort_values(by='Item Price', ascending=False)\n",
    "item_price_outliers"
   ]
  },
  {
   "cell_type": "code",
   "execution_count": null,
   "id": "34",
   "metadata": {},
   "outputs": [],
   "source": [
    "# List Item Price outlier Items\n",
    "\n",
    "item_price_outliers['Item Name'].unique()"
   ]
  },
  {
   "cell_type": "markdown",
   "id": "35",
   "metadata": {},
   "source": [
    "Outliers in `Item Price` are catering packages, platters, bundles, and more expensive combos."
   ]
  },
  {
   "cell_type": "markdown",
   "id": "36",
   "metadata": {},
   "source": [
    "##### Item Options Total Price"
   ]
  },
  {
   "cell_type": "code",
   "execution_count": null,
   "id": "37",
   "metadata": {},
   "outputs": [],
   "source": [
    "# Identify outliers in Item Options Total Price\n",
    "\n",
    "plt.title('Distribution of Item Options Total Price', fontsize=16, fontweight='bold')\n",
    "sns.histplot(data=df, x='Item Options Total Price', color='skyblue')\n",
    "plt.xlabel('Item Options Total Price ($)', fontsize=14)\n",
    "plt.ylabel('Frequency', fontsize=14)\n",
    "\n",
    "lower_bound, upper_bound = calculate_iqr(df=df, col='Item Options Total Price')\n",
    "\n",
    "plt.axvline(x=df['Item Options Total Price'].mean(), color='red', linestyle='--', label='Mean')\n",
    "plt.axvline(x=df['Item Options Total Price'].median(), color='green', linestyle='--', label='Median')\n",
    "plt.axvline(x=lower_bound, color='orange', linestyle='-.', label='Lower Bound') if lower_bound > 0 else None\n",
    "plt.axvline(x=upper_bound, color='orange', linestyle='-.', label='Upper Bound')\n",
    "plt.legend()\n",
    "\n",
    "plt.tight_layout()\n",
    "plt.show()"
   ]
  },
  {
   "cell_type": "code",
   "execution_count": null,
   "id": "38",
   "metadata": {},
   "outputs": [],
   "source": [
    "item_options_total_price_outliers = df[df['Item Options Total Price'] > upper_bound].sort_values(by='Item Options Total Price', ascending=False)\n",
    "item_options_total_price_outliers"
   ]
  },
  {
   "cell_type": "code",
   "execution_count": null,
   "id": "39",
   "metadata": {},
   "outputs": [],
   "source": [
    "# Print number of rows shared by all price outliers\n",
    "\n",
    "merged_df = pd.merge(left=item_price_outliers, right=item_options_total_price_outliers, left_index=True, right_index=True, how='inner', suffixes=('_item_price', '_item_options_total_price'))\n",
    "merged_df = pd.merge(left=merged_df, right=order_total_outliers, left_index=True, right_index=True, how='inner', suffixes=('', '_order_total'))\n",
    "\n",
    "print(f\"Number of merged outliers: {len(merged_df)}\")"
   ]
  },
  {
   "cell_type": "markdown",
   "id": "40",
   "metadata": {},
   "source": [
    "Rows which have a high `Item Price` also have a high `Item Options Total Price` and `Order Total`, signaling a relationship between these features."
   ]
  },
  {
   "cell_type": "markdown",
   "id": "41",
   "metadata": {},
   "source": [
    "### Business Logic Validation\n",
    "\n",
    "- [x] Investigate tax calculation\n",
    "- [x] Confirm total calculated correctly from subtotal\n",
    "- [x] Check for canceled/voided/refunded orders"
   ]
  },
  {
   "cell_type": "markdown",
   "id": "42",
   "metadata": {},
   "source": [
    "##### Total Calculation"
   ]
  },
  {
   "cell_type": "code",
   "execution_count": null,
   "id": "43",
   "metadata": {},
   "outputs": [],
   "source": [
    "# Inspect rows where Order Subtotal and Order Tax Total don't add up to Order Total\n",
    "\n",
    "tax_rate_valid = np.isclose((df['Order Subtotal'] + df['Order Tax Total']), df['Order Total'])\n",
    "df[~tax_rate_valid].head()"
   ]
  },
  {
   "cell_type": "markdown",
   "id": "44",
   "metadata": {},
   "source": [
    "It is not apparently cleaer why `Order Tax Total` and `Order Subtotal` do not add up to `Order Total` in all rows. Possible reasons could include added fees or tips, whose information is missing in this dataset."
   ]
  },
  {
   "cell_type": "markdown",
   "id": "45",
   "metadata": {},
   "source": [
    "#### Tax Calculation"
   ]
  },
  {
   "cell_type": "code",
   "execution_count": null,
   "id": "46",
   "metadata": {},
   "outputs": [],
   "source": [
    "# Calculate effective tax rates\n",
    "\n",
    "tax_rate_valid_df = df[tax_rate_valid]\n",
    "(tax_rate_valid_df['Order Tax Total']/tax_rate_valid_df['Order Subtotal']).round(decimals=2).unique()"
   ]
  },
  {
   "cell_type": "code",
   "execution_count": null,
   "id": "47",
   "metadata": {},
   "outputs": [],
   "source": [
    "# Count occurrences of each tax rate\n",
    "\n",
    "df['Tax Rate'] = (df['Order Tax Total']/df['Order Subtotal']).round(decimals=2)\n",
    "df.groupby(by='Tax Rate').size()"
   ]
  },
  {
   "cell_type": "code",
   "execution_count": null,
   "id": "48",
   "metadata": {},
   "outputs": [],
   "source": [
    "df[df['Tax Rate'] == 0.05]"
   ]
  },
  {
   "cell_type": "markdown",
   "id": "49",
   "metadata": {},
   "source": [
    "The statewide tax rate in California is **7.25%**. In Los Angeles, the combined sales tax rate (state and local) is **9.50%**. While a majority of the orders are between 9-10%, there are a small amount with a much lower tax rate."
   ]
  },
  {
   "cell_type": "markdown",
   "id": "50",
   "metadata": {},
   "source": [
    "#### Canceled/Voided/Refunded orders"
   ]
  },
  {
   "cell_type": "code",
   "execution_count": null,
   "id": "51",
   "metadata": {},
   "outputs": [],
   "source": [
    "df['Fulfillment Status'].unique()"
   ]
  },
  {
   "cell_type": "code",
   "execution_count": null,
   "id": "52",
   "metadata": {},
   "outputs": [],
   "source": [
    "# View cancelled orders\n",
    "\n",
    "df[df['Fulfillment Status'] == 'Canceled']"
   ]
  },
  {
   "cell_type": "code",
   "execution_count": null,
   "id": "53",
   "metadata": {},
   "outputs": [],
   "source": [
    "# Generate pseudo order id to be able to group orders\n",
    "\n",
    "df['pseudo_order_id'] = df['Order Name'].str.split(' ').str[0] + '_' + df['Order Date'].astype(str)\n",
    "df['pseudo_order_id']"
   ]
  },
  {
   "cell_type": "code",
   "execution_count": null,
   "id": "54",
   "metadata": {},
   "outputs": [],
   "source": [
    "# Calculate number of canceled orders\n",
    "\n",
    "cancelled_orders = df[df['Fulfillment Status'] == 'Canceled']\n",
    "num_canceled_orders = cancelled_orders['pseudo_order_id'].nunique()\n",
    "\n",
    "print(f\"Number of canceled orders: {num_canceled_orders}\")"
   ]
  },
  {
   "cell_type": "code",
   "execution_count": null,
   "id": "55",
   "metadata": {},
   "outputs": [],
   "source": [
    "# View New orders\n",
    "\n",
    "df[df['Fulfillment Status'] == 'New']"
   ]
  },
  {
   "cell_type": "code",
   "execution_count": null,
   "id": "56",
   "metadata": {},
   "outputs": [],
   "source": [
    "# View orders with no fulfillment status\n",
    "\n",
    "null_fulfillment_status = df[df['Fulfillment Status'].isnull()]\n",
    "null_fulfillment_status"
   ]
  },
  {
   "cell_type": "code",
   "execution_count": null,
   "id": "57",
   "metadata": {},
   "outputs": [],
   "source": [
    "null_fulfillment_status.info()"
   ]
  },
  {
   "cell_type": "code",
   "execution_count": null,
   "id": "58",
   "metadata": {},
   "outputs": [],
   "source": [
    "# Investigate Order Name for orders with no fulfillment status\n",
    "\n",
    "null_fulfillment_status['Order Name'].unique()"
   ]
  },
  {
   "cell_type": "code",
   "execution_count": null,
   "id": "59",
   "metadata": {},
   "outputs": [],
   "source": [
    "# Count fulfillment types including null values\n",
    "\n",
    "df['Fulfillment Type'].value_counts(dropna=False)"
   ]
  },
  {
   "cell_type": "code",
   "execution_count": null,
   "id": "60",
   "metadata": {},
   "outputs": [],
   "source": [
    "# List Channels of orders with no fulfillment status\n",
    "\n",
    "null_fulfillment_status['Channels'].unique()"
   ]
  },
  {
   "cell_type": "code",
   "execution_count": null,
   "id": "61",
   "metadata": {},
   "outputs": [],
   "source": [
    "# List refunded orders\n",
    "\n",
    "df[df['Order Refunded Amount'] > 0]"
   ]
  },
  {
   "cell_type": "markdown",
   "id": "62",
   "metadata": {},
   "source": [
    "* There were a total of **5** cancelled orders.\n",
    "* **2** orders were listed as **New**. These were probably in progress at the time of capturing the data.\n",
    "* **826** rows have no `Fulfillment Status` listed.\n",
    "    * These orders have primarily numeric `Order Name`.\n",
    "    * They are also missing `Fulfillment Type`.\n",
    "    * The single `Channel` for these rows is `BELLY RUBB - BBQ Ribs to Go & Catering`\n",
    "* There are no refunded orders. This probably means that `Order Refunded Amount` does not apply when `Fulfillment Status` is `Canceled`."
   ]
  },
  {
   "cell_type": "code",
   "execution_count": null,
   "id": "63",
   "metadata": {},
   "outputs": [],
   "source": []
  }
 ],
 "metadata": {
  "kernelspec": {
   "display_name": "belly_rubb",
   "language": "python",
   "name": "python3"
  },
  "language_info": {
   "codemirror_mode": {
    "name": "ipython",
    "version": 3
   },
   "file_extension": ".py",
   "mimetype": "text/x-python",
   "name": "python",
   "nbconvert_exporter": "python",
   "pygments_lexer": "ipython3",
   "version": "3.10.18"
  }
 },
 "nbformat": 4,
 "nbformat_minor": 5
}
