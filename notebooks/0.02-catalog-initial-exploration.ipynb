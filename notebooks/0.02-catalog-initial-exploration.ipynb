{
 "cells": [
  {
   "cell_type": "markdown",
   "id": "0",
   "metadata": {},
   "source": [
    "# Initial Exploration of Item Catalog\n",
    "\n",
    "This notebook explores the item catalog which contains information about menu items offered at Belly Rubb."
   ]
  },
  {
   "cell_type": "code",
   "execution_count": null,
   "id": "1",
   "metadata": {},
   "outputs": [],
   "source": [
    "import pandas as pd\n",
    "import numpy as np\n",
    "\n",
    "# Data visualization\n",
    "import missingno as msno\n",
    "import matplotlib.pyplot as plt\n",
    "\n",
    "from belly_rubb.config import RAW_DATA_DIR"
   ]
  },
  {
   "cell_type": "code",
   "execution_count": null,
   "id": "2",
   "metadata": {},
   "outputs": [],
   "source": [
    "catalog_df = pd.read_csv(RAW_DATA_DIR / 'MLW4W4RYAASNM_catalog-2025-08-26-2046.csv')\n",
    "catalog_df.head()"
   ]
  },
  {
   "cell_type": "markdown",
   "id": "3",
   "metadata": {},
   "source": [
    "# Data Overview"
   ]
  },
  {
   "cell_type": "code",
   "execution_count": null,
   "id": "4",
   "metadata": {},
   "outputs": [],
   "source": [
    "catalog_df.info()"
   ]
  },
  {
   "cell_type": "code",
   "execution_count": null,
   "id": "5",
   "metadata": {},
   "outputs": [],
   "source": [
    "catalog_df.shape"
   ]
  },
  {
   "cell_type": "markdown",
   "id": "6",
   "metadata": {},
   "source": [
    "At a cursory glance:\n",
    "* The dataset contains **75** features and **66** rows.\n",
    "* `SKU`, `GTIN`,`Social Media Link Title`, `Social Media Link Description`, `Online Sale Price`, `Sellable`, `Stockable`, `New Quantity ...` are fully null."
   ]
  },
  {
   "cell_type": "markdown",
   "id": "7",
   "metadata": {},
   "source": [
    "# Data Quality Checks\n",
    "\n",
    "- [x] Investigate missing values\n",
    "- [x] Identify static columns\n",
    "- [x] Check for duplicates\n",
    "- [x] Validate data types"
   ]
  },
  {
   "cell_type": "markdown",
   "id": "8",
   "metadata": {},
   "source": [
    "## Missing Values"
   ]
  },
  {
   "cell_type": "code",
   "execution_count": null,
   "id": "9",
   "metadata": {},
   "outputs": [],
   "source": [
    "# Get columns with no information\n",
    "\n",
    "null_cols = catalog_df.columns[catalog_df.isna().all()]\n",
    "null_cols"
   ]
  },
  {
   "cell_type": "code",
   "execution_count": null,
   "id": "10",
   "metadata": {},
   "outputs": [],
   "source": [
    "np.round(catalog_df.isna().sum() / len(catalog_df) * 100, 2)"
   ]
  },
  {
   "cell_type": "code",
   "execution_count": null,
   "id": "11",
   "metadata": {},
   "outputs": [],
   "source": [
    "# Plot missingness heatmap\n",
    "\n",
    "msno.heatmap(catalog_df, figsize=(12, 6))\n",
    "\n",
    "plt.show()"
   ]
  },
  {
   "cell_type": "markdown",
   "id": "12",
   "metadata": {},
   "source": [
    "* Relevant columns with high missingness correlation:\n",
    "    * `Reporting Category` and `Categories`\n",
    "    * Delivery-related columns such as `Shipping Enabled` and SEO related columns such as `SEO Title`"
   ]
  },
  {
   "cell_type": "markdown",
   "id": "13",
   "metadata": {},
   "source": [
    "### `Description`"
   ]
  },
  {
   "cell_type": "code",
   "execution_count": null,
   "id": "14",
   "metadata": {},
   "outputs": [],
   "source": [
    "# Filter rows with missing Description\n",
    "\n",
    "catalog_df[catalog_df['Description'].isna()]"
   ]
  },
  {
   "cell_type": "code",
   "execution_count": null,
   "id": "15",
   "metadata": {},
   "outputs": [],
   "source": [
    "# Investigate BABY BACK PORK RIBS\n",
    "\n",
    "catalog_df[catalog_df['Item Name'] == 'BABY BACK PORK RIBS']"
   ]
  },
  {
   "cell_type": "code",
   "execution_count": null,
   "id": "16",
   "metadata": {},
   "outputs": [],
   "source": [
    "# Investigate ARTISAN MAC AND CHEESE\n",
    "\n",
    "catalog_df[catalog_df['Item Name'] == 'ARTISAN MAC AND CHEESE']"
   ]
  },
  {
   "cell_type": "code",
   "execution_count": null,
   "id": "17",
   "metadata": {},
   "outputs": [],
   "source": [
    "# Calculate percentage of missing values in Description column\n",
    "\n",
    "print(f\"Percentage of missing values in 'Description': {np.round(catalog_df['Description'].isna().sum() / len(catalog_df) * 100, 2)}%\")"
   ]
  },
  {
   "cell_type": "code",
   "execution_count": null,
   "id": "18",
   "metadata": {},
   "outputs": [],
   "source": [
    "# Compare the number of descriptions and variations of item\n",
    "\n",
    "catalog_df.groupby(by='Item Name').agg({\n",
    "    'Description': 'count',\n",
    "    'Token': 'count'\n",
    "}).sort_values(by='Token', ascending=False)"
   ]
  },
  {
   "cell_type": "markdown",
   "id": "19",
   "metadata": {},
   "source": [
    "* The column `Description` is missing **43.94%** of its values.\n",
    "* The feature stores a description of the item.\n",
    "    * Each item has *at most* **one description** entry. This implies that the description is shared between variations of the item."
   ]
  },
  {
   "cell_type": "markdown",
   "id": "20",
   "metadata": {},
   "source": [
    "### `Categories` and `Reporting Category`"
   ]
  },
  {
   "cell_type": "code",
   "execution_count": null,
   "id": "21",
   "metadata": {},
   "outputs": [],
   "source": [
    "# Investigate rows with missing Categories\n",
    "\n",
    "catalog_df[catalog_df['Categories'].isna()]"
   ]
  },
  {
   "cell_type": "code",
   "execution_count": null,
   "id": "22",
   "metadata": {},
   "outputs": [],
   "source": [
    "# List categories\n",
    "\n",
    "catalog_df['Categories'].unique()"
   ]
  },
  {
   "cell_type": "code",
   "execution_count": null,
   "id": "23",
   "metadata": {},
   "outputs": [],
   "source": [
    "# Check to see if there is another entry for Pulled Beef Sliders\n",
    "\n",
    "catalog_df[catalog_df['Item Name'].str.contains('Pulled Beef Sliders')]"
   ]
  },
  {
   "cell_type": "markdown",
   "id": "24",
   "metadata": {},
   "source": [
    "Categories are missing for:\n",
    "* Family Size `Mac'n'Cheese` orders\n",
    "* `Pear+Gorgonzola Salad (Full Pan)`\n",
    "* `Pulled Beef Sliders (12pcs)`\n",
    "* `Utensil Kit`\n",
    "\n",
    "Based on the available categories, there are no appropriate ones to fit these into.\n"
   ]
  },
  {
   "cell_type": "markdown",
   "id": "25",
   "metadata": {},
   "source": [
    "#### `Pickup Enabled`"
   ]
  },
  {
   "cell_type": "code",
   "execution_count": null,
   "id": "26",
   "metadata": {},
   "outputs": [],
   "source": [
    "# Count values in Pickup Enabled\n",
    "\n",
    "catalog_df['Pickup Enabled'].value_counts(dropna=False)"
   ]
  },
  {
   "cell_type": "code",
   "execution_count": null,
   "id": "27",
   "metadata": {},
   "outputs": [],
   "source": [
    "# View single item with pickup disabled\n",
    "\n",
    "catalog_df[catalog_df['Pickup Enabled'] == 'N']"
   ]
  },
  {
   "cell_type": "code",
   "execution_count": null,
   "id": "28",
   "metadata": {},
   "outputs": [],
   "source": [
    "# View items with missing pickup enabled entry\n",
    "\n",
    "catalog_df[catalog_df['Pickup Enabled'].isna()]"
   ]
  },
  {
   "cell_type": "code",
   "execution_count": null,
   "id": "29",
   "metadata": {},
   "outputs": [],
   "source": [
    "# Convert Pickup Enabled to numeric\n",
    "\n",
    "catalog_df['Pickup Enabled Numeric'] = np.where(catalog_df['Pickup Enabled'] == 'Y', 1, 0)\n",
    "catalog_df.head()"
   ]
  },
  {
   "cell_type": "code",
   "execution_count": null,
   "id": "30",
   "metadata": {},
   "outputs": [],
   "source": [
    "# Compare number of items with and without pickup enabled\n",
    "\n",
    "catalog_df.groupby(by='Item Name').agg({\n",
    "    'Pickup Enabled Numeric': 'sum',\n",
    "    'Token': 'count'\n",
    "}).sort_values(by='Token', ascending=False)"
   ]
  },
  {
   "cell_type": "markdown",
   "id": "31",
   "metadata": {},
   "source": [
    "Similar to `Description`, `Pickup Enabled` is present for *at most* **one entry** per `Item Name`."
   ]
  },
  {
   "cell_type": "markdown",
   "id": "32",
   "metadata": {},
   "source": [
    "## Static Columns"
   ]
  },
  {
   "cell_type": "code",
   "execution_count": null,
   "id": "33",
   "metadata": {},
   "outputs": [],
   "source": [
    "static_cols = catalog_df.columns[catalog_df.nunique() == 1]\n",
    "print(static_cols)"
   ]
  },
  {
   "cell_type": "markdown",
   "id": "34",
   "metadata": {},
   "source": [
    "* **Static Columns**:\n",
    "    * `Self-serve Ordering Enabled`\n",
    "    * `Archived`\n",
    "    * `Contains Alcohol`\n",
    "    * `Stock Alert Enabled BELLY RUBB - BBQ Ribs To Go & Catering`\n",
    "    * `Stock Alert Count BELLY RUBB - BBQ Ribs To Go & Catering`\n",
    "    * `Modifier Set - Are you OK with spicy food?`\n",
    "    * `Modifier Set - Choose the glaze for rack 4`\n",
    "    * `Modifier Set - Extra Toppings`\n",
    "    * `Modifier Set - Glazed Belly Bites`\n",
    "    * `Modifier Set - Half Rack Glaze`\n",
    "    * `Modifier Set - How about Pork Rib Bites (off the bone rib meat)?`\n",
    "    * `Modifier Set - How about some cheese on top?`\n",
    "    * `Modifier Set - Spicy sauce?`"
   ]
  },
  {
   "cell_type": "markdown",
   "id": "35",
   "metadata": {},
   "source": [
    "## Duplicates"
   ]
  },
  {
   "cell_type": "code",
   "execution_count": null,
   "id": "36",
   "metadata": {},
   "outputs": [],
   "source": [
    "duplicates = catalog_df.duplicated()\n",
    "print(f\"Duplicate rows in catalog_df:\\n{catalog_df[duplicates]}\")"
   ]
  },
  {
   "cell_type": "markdown",
   "id": "37",
   "metadata": {},
   "source": [
    "There are **no** duplicate rows."
   ]
  },
  {
   "cell_type": "markdown",
   "id": "38",
   "metadata": {},
   "source": [
    "## Data Types"
   ]
  },
  {
   "cell_type": "code",
   "execution_count": null,
   "id": "39",
   "metadata": {},
   "outputs": [],
   "source": [
    "catalog_df.dtypes"
   ]
  },
  {
   "cell_type": "code",
   "execution_count": null,
   "id": "40",
   "metadata": {},
   "outputs": [],
   "source": [
    "modifier_cols = catalog_df.columns[catalog_df.columns.str.contains(\"Modifier\")]\n",
    "print(modifier_cols)"
   ]
  },
  {
   "cell_type": "code",
   "execution_count": null,
   "id": "41",
   "metadata": {},
   "outputs": [],
   "source": [
    "catalog_df[modifier_cols].head()"
   ]
  },
  {
   "cell_type": "markdown",
   "id": "42",
   "metadata": {},
   "source": [
    "* `Modifier Set` columns can be converted to binary since they only contains `Y` for Yes and `N` for No."
   ]
  },
  {
   "cell_type": "markdown",
   "id": "43",
   "metadata": {},
   "source": [
    "# Category Insights\n",
    "\n",
    "- [x] Calculate number of items in each category.\n",
    "- [x] List items in categories.\n",
    "- [x] Rank categories by aggregated `Price`.\n",
    "- [x] Item category vs Variation type."
   ]
  },
  {
   "cell_type": "code",
   "execution_count": null,
   "id": "44",
   "metadata": {},
   "outputs": [],
   "source": [
    "catalog_df['Reporting Category']"
   ]
  },
  {
   "cell_type": "code",
   "execution_count": null,
   "id": "45",
   "metadata": {},
   "outputs": [],
   "source": [
    "# Create category column\n",
    "\n",
    "catalog_df['category'] = catalog_df['Reporting Category'].str.split(\" \\(\", expand=True)[0]\n",
    "catalog_df.head()"
   ]
  },
  {
   "cell_type": "code",
   "execution_count": null,
   "id": "46",
   "metadata": {},
   "outputs": [],
   "source": [
    "# List categories\n",
    "\n",
    "catalog_df['category'].unique()"
   ]
  },
  {
   "cell_type": "code",
   "execution_count": null,
   "id": "47",
   "metadata": {},
   "outputs": [],
   "source": [
    "# Inspect items with missing category\n",
    "\n",
    "catalog_df[catalog_df['category'].isna()]"
   ]
  },
  {
   "cell_type": "markdown",
   "id": "48",
   "metadata": {},
   "source": [
    "## Number of items in categories"
   ]
  },
  {
   "cell_type": "code",
   "execution_count": null,
   "id": "49",
   "metadata": {},
   "outputs": [],
   "source": [
    "category_counts = catalog_df.groupby(by='category')['Item Name'].nunique().reset_index(name='count')\n",
    "category_counts = category_counts.sort_values(by='count', ascending=False)\n",
    "category_counts"
   ]
  },
  {
   "cell_type": "markdown",
   "id": "50",
   "metadata": {},
   "source": [
    "**Top 3 Categories by Number of Items**\n",
    "1. `DIPS`: **14**\n",
    "2. `COMBOS`: **8**\n",
    "3. `RIBS`: **7**\n",
    "\n",
    "**Lowest 3 Categories by Number of Items**\n",
    "1. `PARTY PACKAGE`: **3**\n",
    "2. `SANDWICHES`: **3**\n",
    "3. `DESSERTS`: **2**"
   ]
  },
  {
   "cell_type": "markdown",
   "id": "51",
   "metadata": {},
   "source": [
    "## Items in Categories"
   ]
  },
  {
   "cell_type": "code",
   "execution_count": null,
   "id": "52",
   "metadata": {},
   "outputs": [],
   "source": [
    "# List all items by category\n",
    "\n",
    "catalog_df.groupby(by='category')['Item Name'].unique().explode()"
   ]
  },
  {
   "cell_type": "code",
   "execution_count": null,
   "id": "53",
   "metadata": {},
   "outputs": [],
   "source": [
    "catalog_df[catalog_df['Item Name'] == 'BABY BACK PORK RIBS']"
   ]
  },
  {
   "cell_type": "code",
   "execution_count": null,
   "id": "54",
   "metadata": {},
   "outputs": [],
   "source": [
    "catalog_df[catalog_df['Item Name'] == 'BEEF SHORT RIB']"
   ]
  },
  {
   "cell_type": "code",
   "execution_count": null,
   "id": "55",
   "metadata": {},
   "outputs": [],
   "source": [
    "catalog_df[catalog_df['Item Name'] == 'BEEF BACK RIBS (Full Rack)']"
   ]
  },
  {
   "cell_type": "markdown",
   "id": "56",
   "metadata": {},
   "source": [
    "* `BABY BACK PORK RIBS` constitutes one entry and has two variations: `Full Rack` and `Half Rack`.\n",
    "* Beef ribs, including `BEEF BACK RIBS` and `BEEF SHORT RIB` list the variation in the `Item Name`.\n",
    "    * The `Variation Name` for these entries is `Regular`."
   ]
  },
  {
   "cell_type": "markdown",
   "id": "57",
   "metadata": {},
   "source": [
    "## Categories by Aggregated Price"
   ]
  },
  {
   "cell_type": "code",
   "execution_count": null,
   "id": "58",
   "metadata": {},
   "outputs": [],
   "source": [
    "cat_revenue = catalog_df.groupby(by='category').agg(\n",
    "    total_price=('Price', 'sum'),\n",
    "    average_price=('Price', 'mean'),\n",
    "    median_price=('Price', 'median'),\n",
    "    min_price=('Price', 'min'),\n",
    "    max_price=('Price', 'max')\n",
    ").reset_index().sort_values(by='average_price', ascending=False)\n",
    "cat_revenue['range'] = cat_revenue['max_price'] - cat_revenue['min_price']\n",
    "cat_revenue"
   ]
  },
  {
   "cell_type": "markdown",
   "id": "59",
   "metadata": {},
   "source": [
    "* The *range* of the `PARTY PACKAGE` category is the highest at **$187**.\n",
    "    * Second highest *range* is the `RIBS` category at **$91.01**.\n",
    "* *Average* and *median* prices within all categories other than `DESSERTS` each category are "
   ]
  },
  {
   "cell_type": "markdown",
   "id": "60",
   "metadata": {},
   "source": [
    "## Variations by Category"
   ]
  },
  {
   "cell_type": "code",
   "execution_count": null,
   "id": "61",
   "metadata": {},
   "outputs": [],
   "source": [
    "# Validate Item variations per category\n",
    "\n",
    "catalog_df.groupby(by='category')['Variation Name'].unique().explode()"
   ]
  },
  {
   "cell_type": "markdown",
   "id": "62",
   "metadata": {},
   "source": [
    "* All categories have Regular `Variation Name`.\n",
    "* `RIBS` category is the only one with variations `Half rack` and `Full rack`.\n",
    "* `SIDES` category is the only one with variations `Side` and `Full`.\n",
    "* Variations specifying the number of pieces are limited to `BITES` category."
   ]
  },
  {
   "cell_type": "markdown",
   "id": "63",
   "metadata": {},
   "source": [
    "# Data Integrity\n",
    "\n",
    "- [x] Item prices for different variations.\n",
    "- [x] Prices not negative"
   ]
  },
  {
   "cell_type": "markdown",
   "id": "64",
   "metadata": {},
   "source": [
    "## Variation Prices"
   ]
  },
  {
   "cell_type": "markdown",
   "id": "65",
   "metadata": {},
   "source": [
    "### Ribs"
   ]
  },
  {
   "cell_type": "code",
   "execution_count": null,
   "id": "66",
   "metadata": {},
   "outputs": [],
   "source": [
    "# Filter for Ribs category\n",
    "\n",
    "ribs_df =catalog_df[catalog_df['category'] == 'RIBS']\n",
    "ribs_df"
   ]
  },
  {
   "cell_type": "code",
   "execution_count": null,
   "id": "67",
   "metadata": {},
   "outputs": [],
   "source": [
    "ribs_df['Variation Name'].value_counts()"
   ]
  },
  {
   "cell_type": "code",
   "execution_count": null,
   "id": "68",
   "metadata": {},
   "outputs": [],
   "source": [
    "# Compare full rack price of pork ribs to half rack price\n",
    "\n",
    "full_rack_price = ribs_df[ribs_df['Variation Name'] == 'Full Rack']['Price'].values\n",
    "half_rack_price = ribs_df[ribs_df['Variation Name'] == 'Half rack']['Price'].values\n",
    "\n",
    "print(f\"Full rack price greater than half rack price: {(full_rack_price > half_rack_price)[0]}\")"
   ]
  },
  {
   "cell_type": "code",
   "execution_count": null,
   "id": "69",
   "metadata": {},
   "outputs": [],
   "source": [
    "# Compare full rack price of beef short ribs to regular rack price\n",
    "\n",
    "short_rib = ribs_df[ribs_df['Item Name'] == 'BEEF SHORT RIB']['Price'].values\n",
    "full_short_rib = ribs_df[ribs_df['Item Name'] == 'BEEF SHORT RIBS (FULL RACK)']['Price'].values\n",
    "\n",
    "print(f\"Full rack of Beef Short Ribs greater than regular: {(full_short_rib > short_rib)[0]}\")"
   ]
  },
  {
   "cell_type": "code",
   "execution_count": null,
   "id": "70",
   "metadata": {},
   "outputs": [],
   "source": [
    "# Compare dino dinner price to full dino ribs price\n",
    "\n",
    "dino_dinner = ribs_df[ribs_df['Item Name'] == 'DINO DINNER']['Price'].values\n",
    "dino_ribs = ribs_df[ribs_df['Item Name'] == 'DINO RIBS (FULL RACK)']['Price'].values\n",
    "\n",
    "print(f\"Full rack of dino ribs greater than dino dinner: {(dino_ribs > dino_dinner)[0]}\")"
   ]
  },
  {
   "cell_type": "markdown",
   "id": "71",
   "metadata": {},
   "source": [
    "Full rack variations are appropriately priced **greater** than half rack variations."
   ]
  },
  {
   "cell_type": "markdown",
   "id": "72",
   "metadata": {},
   "source": [
    "### Sides"
   ]
  },
  {
   "cell_type": "code",
   "execution_count": null,
   "id": "73",
   "metadata": {},
   "outputs": [],
   "source": [
    "# Sides dataframe\n",
    "\n",
    "sides_df = catalog_df[catalog_df['category'] == 'SIDES']\n",
    "sides_df.head()"
   ]
  },
  {
   "cell_type": "code",
   "execution_count": null,
   "id": "74",
   "metadata": {},
   "outputs": [],
   "source": [
    "# Compare side and full prices for mac and cheese\n",
    "\n",
    "mac_and_cheese = sides_df[sides_df['Item Name'] == 'ARTISAN MAC AND CHEESE']\n",
    "\n",
    "side_price = mac_and_cheese[mac_and_cheese['Variation Name'] == 'Side']['Price'].values\n",
    "full_price = mac_and_cheese[mac_and_cheese['Variation Name'] == 'Full']['Price'].values\n",
    "\n",
    "print(f\"Full mac and cheese price greater than side: {(full_price > side_price)[0]}\")"
   ]
  },
  {
   "cell_type": "code",
   "execution_count": null,
   "id": "75",
   "metadata": {},
   "outputs": [],
   "source": [
    "# Compare side and full prices for crispy fries\n",
    "\n",
    "fries = sides_df[sides_df['Item Name'] == 'CRISPY  FRIES']\n",
    "\n",
    "side_price = fries[fries['Variation Name'] == 'Side']['Price'].values\n",
    "full_price = fries[fries['Variation Name'] == 'Full']['Price'].values\n",
    "\n",
    "print(f\"Full crispy fries price greater than side: {(full_price > side_price)[0]}\")"
   ]
  },
  {
   "cell_type": "code",
   "execution_count": null,
   "id": "76",
   "metadata": {},
   "outputs": [],
   "source": [
    "# Verify only one variation for baked baby potatoes\n",
    "\n",
    "catalog_df[catalog_df['Item Name'] == 'BAKED BABY POTATOES']"
   ]
  },
  {
   "cell_type": "markdown",
   "id": "77",
   "metadata": {},
   "source": [
    "* *Full* variations for sides are appropriately priced **greater than** *side* variations.\n",
    "* Only `BAKED BABY POTATOES` have a variation of `Regular`."
   ]
  },
  {
   "cell_type": "markdown",
   "id": "78",
   "metadata": {},
   "source": [
    "### Bites"
   ]
  },
  {
   "cell_type": "code",
   "execution_count": null,
   "id": "79",
   "metadata": {},
   "outputs": [],
   "source": [
    "bites_df = catalog_df[catalog_df['category'] == 'BITES']\n",
    "bites_df"
   ]
  },
  {
   "cell_type": "code",
   "execution_count": null,
   "id": "80",
   "metadata": {},
   "outputs": [],
   "source": [
    "# Check prices for fried chicken wings\n",
    "\n",
    "wings = bites_df[bites_df['Item Name'] == 'FRIED CHICKEN WINGS']\n",
    "\n",
    "six_price = wings[wings['Variation Name'] == '6 pcs']['Price'].values\n",
    "eight_price = wings[wings['Variation Name'] == '8 pcs']['Price'].values\n",
    "twelve_price = wings[wings['Variation Name'] == '12 pcs']['Price'].values\n",
    "\n",
    "print(f\"Chicken Wings variations priced accordingly: {((twelve_price > eight_price) and (eight_price > six_price))[0]}\")"
   ]
  },
  {
   "cell_type": "code",
   "execution_count": null,
   "id": "81",
   "metadata": {},
   "outputs": [],
   "source": [
    "# Check prices for mozzarella sticks\n",
    "\n",
    "sticks = bites_df[bites_df['Item Name'] == 'MOZZARELLA STICKS']\n",
    "\n",
    "three_price = sticks[sticks['Variation Name'] == '3 pcs']['Price'].values\n",
    "six_price = sticks[sticks['Variation Name'] == '6 pcs']['Price'].values\n",
    "nine_price = sticks[sticks['Variation Name'] == '9 pcs']['Price'].values\n",
    "\n",
    "print(f\"Chicken Wings variations priced accordingly: {((nine_price > six_price) and (six_price > three_price))[0]}\")"
   ]
  },
  {
   "cell_type": "markdown",
   "id": "82",
   "metadata": {},
   "source": [
    "* Wings and Mozzarella Sticks variations are **priced appropriately**.\n",
    "* `LOADED FRIES`, `GRILLED SWEET CORN`, and `PORK BELLY BITES` only have `Regular` variation."
   ]
  },
  {
   "cell_type": "code",
   "execution_count": null,
   "id": "83",
   "metadata": {},
   "outputs": [],
   "source": []
  }
 ],
 "metadata": {
  "kernelspec": {
   "display_name": "belly_rubb",
   "language": "python",
   "name": "python3"
  },
  "language_info": {
   "codemirror_mode": {
    "name": "ipython",
    "version": 3
   },
   "file_extension": ".py",
   "mimetype": "text/x-python",
   "name": "python",
   "nbconvert_exporter": "python",
   "pygments_lexer": "ipython3",
   "version": "3.10.18"
  }
 },
 "nbformat": 4,
 "nbformat_minor": 5
}
